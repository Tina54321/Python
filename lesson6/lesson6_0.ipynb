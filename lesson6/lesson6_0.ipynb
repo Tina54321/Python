{
 "cells": [
  {
   "cell_type": "code",
   "execution_count": 32,
   "metadata": {},
   "outputs": [
    {
     "name": "stdout",
     "output_type": "stream",
     "text": [
      "格式錯誤:身高必須大於120同時小於230\n"
     ]
    }
   ],
   "source": [
    "try:\n",
    "    name:str = input(\"請輸入姓名:\")\n",
    "    height:float = float(input(\"請輸入身高(120~230) (cm):\"))\n",
    "    if height <120 or height >230:\n",
    "        raise Exception(\"身高必須大於120同時小於230\")\n",
    "    weight = float(input(\"請輸入體重(40~170) (kg):\"))\n",
    "    if weight < 40 or weight > 170:\n",
    "        raise Exception(\"體重必須大於40同時小於170\")\n",
    "    #weight = eval(input(\"請輸入體重(kg):\"))\n",
    "    BMI = round(weight / (height*0.01) ** 2, ndigits=2)\n",
    "    print(f\"{name},您的BMI:{BMI}\")\n",
    "except ValueError as error:  \n",
    "    print(f\"格式錯誤:{error}\")\n",
    "except SyntaxError as e: \n",
    "    print(f\"語法錯誤:{e}\")\n",
    "except Exception as error:  # pass\n",
    "    print(f\"格式錯誤:{error}\")"
   ]
  },
  {
   "cell_type": "code",
   "execution_count": 10,
   "metadata": {},
   "outputs": [
    {
     "data": {
      "text/plain": [
       "True"
      ]
     },
     "execution_count": 10,
     "metadata": {},
     "output_type": "execute_result"
    }
   ],
   "source": [
    "not False\n",
    "not True"
   ]
  },
  {
   "cell_type": "code",
   "execution_count": 13,
   "metadata": {},
   "outputs": [],
   "source": [
    "height = float(input('請輸入身高(cm):')) \n",
    "if height>=120:\n",
    "    if height<=230:\n",
    "        print(\"身高正常\")"
   ]
  },
  {
   "cell_type": "code",
   "execution_count": 15,
   "metadata": {},
   "outputs": [
    {
     "name": "stdout",
     "output_type": "stream",
     "text": [
      "身高正常\n"
     ]
    }
   ],
   "source": [
    "height = float(input('請輸入身高(cm):')) \n",
    "if height>=120 and height<=230: \n",
    "    print(\"身高正常\")"
   ]
  },
  {
   "cell_type": "code",
   "execution_count": 19,
   "metadata": {},
   "outputs": [
    {
     "name": "stdout",
     "output_type": "stream",
     "text": [
      "身高不正常\n"
     ]
    }
   ],
   "source": [
    "height = float(input('請輸入身高(cm):')) \n",
    "if height<120 or height>230:\n",
    "    print(\"身高不正常\")"
   ]
  },
  {
   "cell_type": "code",
   "execution_count": 23,
   "metadata": {},
   "outputs": [
    {
     "name": "stdout",
     "output_type": "stream",
     "text": [
      "身高必須大於120同時小於230\n"
     ]
    }
   ],
   "source": [
    "try:\n",
    "    height = float(input('請輸入身高(cm):'))\n",
    "    if height < 120 or height > 230:\n",
    "        raise Exception(\"身高必須大於120同時小於230\")\n",
    "except Exception as e:\n",
    " print(e)"
   ]
  },
  {
   "cell_type": "code",
   "execution_count": 39,
   "metadata": {},
   "outputs": [
    {
     "name": "stdout",
     "output_type": "stream",
     "text": [
      "不及格\n"
     ]
    }
   ],
   "source": [
    "# 0~180~220\n",
    "scores = int(input(\"請輸入學生分數(最高300分\"))\n",
    "if scores > 300:\n",
    "    raise Exception(\"<=300\")\n",
    "if scores >= 220:\n",
    "    print(\"優\")\n",
    "elif scores >= 180:\n",
    "    print(\"甲\")\n",
    "else:\n",
    "     print(\"不及格\")   "
   ]
  },
  {
   "cell_type": "code",
   "execution_count": 47,
   "metadata": {},
   "outputs": [
    {
     "name": "stdout",
     "output_type": "stream",
     "text": [
      "乙\n"
     ]
    }
   ],
   "source": [
    "scores = int(input(\"請輸入學生分數(最高100分)\"))\n",
    "if scores <60:\n",
    "    grade = \"丁\"\n",
    "elif scores <70:   # 已經>= 60 接續前面if的else\n",
    "    grade = \"丙\"\n",
    "elif scores <80:\n",
    "    grade = \"乙\"\n",
    "elif scores <90:\n",
    "    grade = \"甲\"\n",
    "else:\n",
    "    grade = \"優\"\n",
    "print(grade)"
   ]
  }
 ],
 "metadata": {
  "kernelspec": {
   "display_name": "Python 3",
   "language": "python",
   "name": "python3"
  },
  "language_info": {
   "codemirror_mode": {
    "name": "ipython",
    "version": 3
   },
   "file_extension": ".py",
   "mimetype": "text/x-python",
   "name": "python",
   "nbconvert_exporter": "python",
   "pygments_lexer": "ipython3",
   "version": "3.10.14"
  }
 },
 "nbformat": 4,
 "nbformat_minor": 2
}

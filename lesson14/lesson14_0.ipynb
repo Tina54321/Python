{
 "cells": [
  {
   "cell_type": "code",
   "execution_count": 10,
   "metadata": {},
   "outputs": [
    {
     "name": "stdout",
     "output_type": "stream",
     "text": [
      "(123)-456-4651\n"
     ]
    }
   ],
   "source": [
    "import re\n",
    "\n",
    "phone_num = input(\"請輸入手機號碼(xxx)-xxx-xxxx:\")\n",
    "phoneNumRegex:re.Pattern = re.compile(r\"\\(\\d\\d\\d\\)-\\d\\d\\d-\\d\\d\\d\\d\")\n",
    "match1:re.Match|None = re.match(phoneNumRegex,phone_num)\n",
    "if match1 is not None:\n",
    "    print(match1.group())\n",
    "else:\n",
    "    print(f'格式不符,{phone_num}')"
   ]
  },
  {
   "cell_type": "code",
   "execution_count": 14,
   "metadata": {},
   "outputs": [
    {
     "name": "stdout",
     "output_type": "stream",
     "text": [
      "格式不符,2184-80-50\n"
     ]
    }
   ],
   "source": [
    "date = input(\"請輸入日期xxxx-xx-xx:\")\n",
    "dateRegex:re.Pattern = re.compile(r'\\d{4}-(0[1-9]|1[0-2])-(0[1-9]|[12][0-9]|3[01])')\n",
    "match2:re.Match|None = re.match(dateRegex,date)\n",
    "if match2 is not None:\n",
    "    print(match2.group())\n",
    "else:\n",
    "    print(f'格式不符,{date}')"
   ]
  },
  {
   "cell_type": "code",
   "execution_count": null,
   "metadata": {},
   "outputs": [],
   "source": [
    "from pydantic import RootModel\n",
    "\n",
    "class Pets(RootModel):\n",
    "    root: list[str]\n",
    "\n",
    "    def __iter__(self):\n",
    "        return iter(self.root)\n",
    "    \n",
    "    def __getitem__(self, item)\n",
    "        return self.root[item]\n",
    "    \n",
    "    "
   ]
  },
  {
   "cell_type": "code",
   "execution_count": null,
   "metadata": {},
   "outputs": [],
   "source": []
  }
 ],
 "metadata": {
  "kernelspec": {
   "display_name": "Python 3",
   "language": "python",
   "name": "python3"
  },
  "language_info": {
   "codemirror_mode": {
    "name": "ipython",
    "version": 3
   },
   "file_extension": ".py",
   "mimetype": "text/x-python",
   "name": "python",
   "nbconvert_exporter": "python",
   "pygments_lexer": "ipython3",
   "version": "3.10.14"
  }
 },
 "nbformat": 4,
 "nbformat_minor": 2
}

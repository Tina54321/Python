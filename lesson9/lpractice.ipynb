{
 "cells": [
  {
   "cell_type": "code",
   "execution_count": 19,
   "metadata": {},
   "outputs": [
    {
     "name": "stdout",
     "output_type": "stream",
     "text": [
      "name?tt\n",
      "height?174.0\n",
      "weight?94.0\n"
     ]
    },
    {
     "data": {
      "text/plain": [
       "tt您好!!\n",
       "您的BMI為31.05,狀態:中度肥胖"
      ]
     },
     "execution_count": 19,
     "metadata": {},
     "output_type": "execute_result"
    }
   ],
   "source": [
    "import pyinputplus as pyip\n",
    "\n",
    "class Bmi():\n",
    "    def __init__(self, n:str, h:float, w:float):\n",
    "        self.name = n\n",
    "        self.height = h\n",
    "        self.weight = w\n",
    "    @property\n",
    "    def bmi(self):\n",
    "        return self.weight / (self.height/100)**2\n",
    "    def status(self) -> str:\n",
    "        if self.bmi >= 35:\n",
    "            result = '重度肥胖'\n",
    "        elif self.bmi >= 30:\n",
    "            result = '中度肥胖'\n",
    "        elif self.bmi >= 27:\n",
    "            result = '輕度肥胖'\n",
    "        elif self.bmi >= 24:\n",
    "            result = '過重'\n",
    "        elif self.bmi >= 18.5:\n",
    "            result = '正常'\n",
    "        else:\n",
    "            result = '過輕'\n",
    "        return result\n",
    "    def __repr__(self):\n",
    "        return f'{self.name}您好!!\\n您的BMI為{self.bmi:.2f},狀態:{self.status()}'\n",
    "\n",
    "name = pyip.inputStr(\"name?\"); print(name)\n",
    "height = pyip.inputFloat(\"height?\"); print(height)\n",
    "weight = pyip.inputFloat(\"weight?\"); print(weight)\n",
    "p1 = Bmi(name, height, weight)\n",
    "p1"
   ]
  },
  {
   "cell_type": "code",
   "execution_count": 27,
   "metadata": {},
   "outputs": [
    {
     "name": "stdout",
     "output_type": "stream",
     "text": [
      "name?tt\n",
      "height?165.0\n",
      "weight?52.0\n",
      "tt您好!\n",
      "您的BMI為19.10\n",
      "狀態為正常\n"
     ]
    }
   ],
   "source": [
    "from dataclasses import dataclass \n",
    "import pyinputplus as pyip\n",
    "\n",
    "@dataclass \n",
    "class Bmi():\n",
    "    name:str\n",
    "    height:float\n",
    "    weight:float\n",
    "\n",
    "    @property\n",
    "    def bmi(self):\n",
    "        return self.weight / (self.height/100)**2\n",
    "    \n",
    "    def status(self) -> str:\n",
    "        if self.bmi >= 35:\n",
    "            result = '重度肥胖'\n",
    "        elif self.bmi >= 30:\n",
    "            result = '中度肥胖'\n",
    "        elif self.bmi >= 27:\n",
    "            result = '輕度肥胖'\n",
    "        elif self.bmi >= 24:\n",
    "            result = '過重'\n",
    "        elif self.bmi >= 18.5:\n",
    "            result = '正常'\n",
    "        else:\n",
    "            result = '過輕'\n",
    "        return result\n",
    "    \n",
    " #   def __repr__(self):\n",
    " #       message = f'{self.name}您好\\n'\n",
    " #       message += f'您的BMI {self.bmi :.2f}\\n'\n",
    " #        message += f'您的狀態 {self.status()}\\n'\n",
    " #       return message\n",
    "    \n",
    "name = pyip.inputStr(\"name?\"); print(name)\n",
    "height = pyip.inputFloat(\"height?\", min=1); print(height)\n",
    "weight = pyip.inputFloat(\"weight?\", min=1); print(weight)\n",
    "p1 = Bmi(name, height, weight)\n",
    "p1\n",
    "print(f'{p1.name}您好!\\n您的BMI為{p1.bmi:.2f}\\n狀態為{p1.status()}') #用print可不用 __repr__"
   ]
  }
 ],
 "metadata": {
  "kernelspec": {
   "display_name": "base",
   "language": "python",
   "name": "python3"
  },
  "language_info": {
   "codemirror_mode": {
    "name": "ipython",
    "version": 3
   },
   "file_extension": ".py",
   "mimetype": "text/x-python",
   "name": "python",
   "nbconvert_exporter": "python",
   "pygments_lexer": "ipython3",
   "version": "3.12.3"
  }
 },
 "nbformat": 4,
 "nbformat_minor": 2
}

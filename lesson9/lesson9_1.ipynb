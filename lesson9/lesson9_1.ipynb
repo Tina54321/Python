{
 "cells": [
  {
   "cell_type": "code",
   "execution_count": 1,
   "metadata": {},
   "outputs": [
    {
     "name": "stdout",
     "output_type": "stream",
     "text": [
      "<class 'int'>\n"
     ]
    }
   ],
   "source": [
    "n = 5\n",
    "print(type(n))"
   ]
  },
  {
   "cell_type": "code",
   "execution_count": 2,
   "metadata": {},
   "outputs": [
    {
     "data": {
      "text/plain": [
       "__main__.Person"
      ]
     },
     "execution_count": 2,
     "metadata": {},
     "output_type": "execute_result"
    }
   ],
   "source": [
    "#自訂的型別-建議第一個字大寫\n",
    "class Person():\n",
    "    pass\n",
    "p1 = Person()\n",
    "type(p1)"
   ]
  },
  {
   "cell_type": "code",
   "execution_count": 3,
   "metadata": {},
   "outputs": [
    {
     "name": "stdout",
     "output_type": "stream",
     "text": [
      "p1的name:蔡宜庭\n",
      "p2的name:蔡宜庭\n"
     ]
    }
   ],
   "source": [
    "#自訂的attribute,必須有自訂的initial\n",
    "\n",
    "class Person():\n",
    "    def __init__(self):\n",
    "        self.name = \"蔡宜庭\"\n",
    "\n",
    "p1 = Person()\n",
    "print(f'p1的name:{p1.name}')\n",
    "\n",
    "p2 = Person()\n",
    "print(f'p2的name:{p2.name}')"
   ]
  },
  {
   "cell_type": "code",
   "execution_count": 4,
   "metadata": {},
   "outputs": [
    {
     "name": "stdout",
     "output_type": "stream",
     "text": [
      "p1的name:蔡宜庭\n",
      "p2的name:Tina Tsai\n"
     ]
    }
   ],
   "source": [
    "#自訂的attribute,必須有自訂的initial\n",
    "#自訂的init\n",
    "#建立attribute name\n",
    "\n",
    "class Person():\n",
    "    def __init__(self,n:str):\n",
    "        super().__init__()    #會繼承副類別\n",
    "        self.name = n\n",
    "\n",
    "p1 = Person(\"蔡宜庭\")\n",
    "print(f'p1的name:{p1.name}')\n",
    "\n",
    "p2 = Person(\"Tina Tsai\")\n",
    "print(f'p2的name:{p2.name}')"
   ]
  },
  {
   "cell_type": "code",
   "execution_count": 5,
   "metadata": {},
   "outputs": [
    {
     "name": "stdout",
     "output_type": "stream",
     "text": [
      "p1的name:蔡宜庭\n",
      "我是Person的實體,我的名字蔡宜庭\n",
      "p2的name:Tina Tsai\n",
      "我是Person的實體,我的名字Tina Tsai\n"
     ]
    }
   ],
   "source": [
    "#自訂的attribute,必須有自訂的initial\n",
    "#自訂的init\n",
    "#建立attribute name\n",
    "#自訂的__repre__\n",
    "\n",
    "class Person():\n",
    "    def __init__(self,n:str):\n",
    "        super().__init__()   \n",
    "        self.name = n\n",
    "    def __repr__(self):\n",
    "        return f\"我是Person的實體,我的名字{self.name}\"\n",
    "\n",
    "p1 = Person(\"蔡宜庭\")\n",
    "print(f'p1的name:{p1.name}')\n",
    "print(p1)\n",
    "\n",
    "p2 = Person(\"Tina Tsai\")\n",
    "print(f'p2的name:{p2.name}')\n",
    "print(p2)"
   ]
  },
  {
   "cell_type": "code",
   "execution_count": 13,
   "metadata": {},
   "outputs": [],
   "source": [
    "class Person():\n",
    "    def __init__(self,n:str):\n",
    "        super().__init__()   \n",
    "        self.name = n\n",
    "        \n",
    "    def __repr__(self):\n",
    "        return f\"我是Person的實體,我的名字{self.name}\"\n",
    "\n",
    "class Student(Person):  # 繼承Class:Person\n",
    "    def __init__(self,n:str,s:int):\n",
    "        super().__init__(n) #繼承時才要用\n",
    "        self.scores = s\n",
    "\n",
    "    def __repr__(self):\n",
    "        before = super().__repr__()\n",
    "        return f\"{before},總分為{self.scores}\""
   ]
  },
  {
   "cell_type": "code",
   "execution_count": 15,
   "metadata": {},
   "outputs": [
    {
     "name": "stdout",
     "output_type": "stream",
     "text": [
      "蔡宜庭 270\n",
      "我是Person的實體,我的名字蔡宜庭,總分為270\n",
      "Tina Tsai 270\n",
      "我是Person的實體,我的名字Tina Tsai,總分為270\n"
     ]
    }
   ],
   "source": [
    "s1 = Student(\"蔡宜庭\",270)\n",
    "print(s1.name, s1.scores)\n",
    "print(s1)\n",
    "\n",
    "s2 = Student(\"Tina Tsai\",270)\n",
    "print(s2.name, s2.scores)\n",
    "print(s2)"
   ]
  }
 ],
 "metadata": {
  "kernelspec": {
   "display_name": "Python 3",
   "language": "python",
   "name": "python3"
  },
  "language_info": {
   "codemirror_mode": {
    "name": "ipython",
    "version": 3
   },
   "file_extension": ".py",
   "mimetype": "text/x-python",
   "name": "python",
   "nbconvert_exporter": "python",
   "pygments_lexer": "ipython3",
   "version": "3.10.14"
  }
 },
 "nbformat": 4,
 "nbformat_minor": 2
}

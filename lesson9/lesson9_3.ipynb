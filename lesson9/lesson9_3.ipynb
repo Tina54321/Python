{
 "cells": [
  {
   "cell_type": "code",
   "execution_count": 1,
   "metadata": {},
   "outputs": [
    {
     "name": "stdout",
     "output_type": "stream",
     "text": [
      "Student(name='蔡宜庭', chinese=78, english=93, math=65)\n",
      "總分為:236\n",
      "平均為:78.67\n",
      "=============================\n"
     ]
    }
   ],
   "source": [
    "from dataclasses import dataclass\n",
    "\n",
    "@dataclass\n",
    "class Student():\n",
    "    name:str\n",
    "    chinese:int\n",
    "    english:int\n",
    "    math:int\n",
    "\n",
    "    @property    \n",
    "    def sum(self):\n",
    "        return self.chinese + self.english + self.math\n",
    "    def average(self)->float:\n",
    "        return self.sum / 3\n",
    "    \n",
    "s1 = Student(\"蔡宜庭\",78,93,65)\n",
    "print(s1)\n",
    "print(f\"總分為:{s1.sum}\")\n",
    "print(f\"平均為:{s1.average():.2f}\")\n",
    "print('=============================')"
   ]
  },
  {
   "cell_type": "code",
   "execution_count": 46,
   "metadata": {},
   "outputs": [
    {
     "name": "stdout",
     "output_type": "stream",
     "text": [
      "請輸入身高(cm): 請輸入體重(kg): Bmi(name='tt', height=166, weight=50)\n",
      "\n",
      "tt您好:\n",
      "您的BMI值是: 18.14\n",
      "您的體重: 過輕\n"
     ]
    }
   ],
   "source": [
    "from dataclasses import dataclass\n",
    "import pyinputplus as pyip\n",
    "\n",
    "@dataclass\n",
    "class Bmi():\n",
    "    name:str\n",
    "    height:float\n",
    "    weight:float\n",
    "\n",
    "    @property\n",
    "    def bmi(self):\n",
    "        return self.weight / (self.height / 100) ** 2\n",
    "    \n",
    "    def status(self)->str:\n",
    "        if self.bmi < 18.5:\n",
    "            result = '過輕'\n",
    "        elif self.bmi < 24:\n",
    "            result = '正常'\n",
    "        elif self.bmi < 27:\n",
    "            result = '過重'\n",
    "        elif self.bmi < 30:\n",
    "            result = '輕度肥胖'\n",
    "        elif self.bmi < 35:\n",
    "            result = '中度肥胖'\n",
    "        else:\n",
    "            result = '重度肥胖'\n",
    "        return result\n",
    "\n",
    "n = input(\"請輸入姓名: \")\n",
    "h = pyip.inputNum(\"請輸入身高(cm): \", greaterThan=0)\n",
    "w = pyip.inputNum(\"請輸入體重(kg): \", greaterThan=0)\n",
    "p1 = Bmi(n,h,w)\n",
    "print(p1)\n",
    "print(f\"\\n{p1.name}您好:\\n您的BMI值是: {p1.bmi:.2f}\\n您的體重: {p1.status()}\")\n"
   ]
  },
  {
   "cell_type": "code",
   "execution_count": 8,
   "metadata": {},
   "outputs": [
    {
     "data": {
      "text/plain": [
       "30.000000000000004"
      ]
     },
     "execution_count": 8,
     "metadata": {},
     "output_type": "execute_result"
    }
   ],
   "source": [
    "import math\n",
    "\n",
    "math.asin(2.5/5) / math.pi * 180\n",
    "\n"
   ]
  }
 ],
 "metadata": {
  "kernelspec": {
   "display_name": "Python 3",
   "language": "python",
   "name": "python3"
  },
  "language_info": {
   "codemirror_mode": {
    "name": "ipython",
    "version": 3
   },
   "file_extension": ".py",
   "mimetype": "text/x-python",
   "name": "python",
   "nbconvert_exporter": "python",
   "pygments_lexer": "ipython3",
   "version": "3.10.14"
  }
 },
 "nbformat": 4,
 "nbformat_minor": 2
}

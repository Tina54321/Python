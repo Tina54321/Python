{
 "cells": [
  {
   "cell_type": "code",
   "execution_count": null,
   "metadata": {},
   "outputs": [],
   "source": [
    "#計算BMI\n",
    "#輸入:\n",
    "#- 請輸入姓名:xxxx\n",
    "#- 請輸入身高(cm):\n",
    "#- 請輸入體重(kg):\n",
    "\n",
    "#請使用自訂的function\n",
    "#- 建立bmi的function,會傳出bmi\n",
    "#- 建立get_status,會傳出字串\n",
    "#- 可以使用pypi\n",
    "\n",
    "#輸出:\n",
    "#- xxxx,您的BMI:25.52\n",
    "\n",
    "#錯誤:\n",
    "#- 格式錯誤:xxxxxxxxxxxxx"
   ]
  },
  {
   "cell_type": "code",
   "execution_count": 1,
   "metadata": {},
   "outputs": [
    {
     "name": "stdout",
     "output_type": "stream",
     "text": [
      "請輸入姓名:"
     ]
    },
    {
     "name": "stdout",
     "output_type": "stream",
     "text": [
      "gg \n",
      "請輸入身高(cm):168.0 \n",
      "請輸入體重(kg):55 \n",
      "gg,您的BMI:19.49,為正常\n"
     ]
    }
   ],
   "source": [
    "import pyinputplus as py\n",
    "a = 0\n",
    "b = 0\n",
    "\n",
    "def bmi(a: float | int, b: float | int) -> float | int:\n",
    "    a = py.inputFloat('\\n請輸入身高(cm):', greaterThan=0); print(f'{a}', end=' ')\n",
    "    b = py.inputNum('\\n請輸入體重(kg):', greaterThan=0); print(f'{b}', end=' ')\n",
    "    return b / (0.01 * a) ** 2\n",
    "\n",
    "def get_status(bmi: float | int) -> str:\n",
    "    if bmi < 18.5:\n",
    "        result = '過輕'\n",
    "    elif bmi < 24:\n",
    "        result = '正常'\n",
    "    elif bmi < 27:\n",
    "        result = '過重'\n",
    "    elif bmi < 30:\n",
    "        result = '輕度肥胖'\n",
    "    elif bmi < 35:\n",
    "        result = '中度肥胖'\n",
    "    else:\n",
    "        result = '重度肥胖'\n",
    "    return result\n",
    "\n",
    "name = py.inputStr(\"請輸入姓名:\"); print(f'{name}', end=' ')\n",
    "BMI = bmi(a,b)\n",
    "status = get_status(BMI)\n",
    "print(f'\\n{name},您的BMI:{BMI:.2f},為{status}')"
   ]
  }
 ],
 "metadata": {
  "kernelspec": {
   "display_name": "Python 3",
   "language": "python",
   "name": "python3"
  },
  "language_info": {
   "codemirror_mode": {
    "name": "ipython",
    "version": 3
   },
   "file_extension": ".py",
   "mimetype": "text/x-python",
   "name": "python",
   "nbconvert_exporter": "python",
   "pygments_lexer": "ipython3",
   "version": "3.12.3"
  }
 },
 "nbformat": 4,
 "nbformat_minor": 2
}

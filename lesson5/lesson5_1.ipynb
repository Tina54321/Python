{
 "cells": [
  {
   "cell_type": "code",
   "execution_count": 3,
   "metadata": {},
   "outputs": [
    {
     "name": "stdout",
     "output_type": "stream",
     "text": [
      "程式結束\n"
     ]
    }
   ],
   "source": [
    "age:int = 17\n",
    "if (age >= 18):\n",
    "    print(\"此人大於18 years old\")\n",
    "    print(\"可以考駕照\")\n",
    "    print(\"有投票權\")\n",
    "print(\"程式結束\")"
   ]
  },
  {
   "cell_type": "markdown",
   "metadata": {},
   "source": [
    "### 輸入學生分數，總分為300分\n",
    "### 由你決定學生可不可以加5%"
   ]
  },
  {
   "cell_type": "code",
   "execution_count": 12,
   "metadata": {},
   "outputs": [
    {
     "name": "stdout",
     "output_type": "stream",
     "text": [
      "學生總分數是479\n"
     ]
    }
   ],
   "source": [
    "score:int = int(input(\"請輸入學生分數(最高300分)\"))\n",
    "is_add:str = input(\"學生是否符合加分條件?(y,n)\")\n",
    "if is_add == 'y':\n",
    "    score *= 1.05\n",
    "print(f'學生總分數是{round(score)}')\n"
   ]
  },
  {
   "cell_type": "markdown",
   "metadata": {},
   "source": [
    "- 輸入學生分數，總分為300分\n",
    "- 由你決定學生可不可以加5%\n",
    "- 超過300分，以300分計算"
   ]
  },
  {
   "cell_type": "code",
   "execution_count": 20,
   "metadata": {},
   "outputs": [
    {
     "name": "stdout",
     "output_type": "stream",
     "text": [
      "學生總分數是300\n"
     ]
    }
   ],
   "source": [
    "score:int|float = int(input(\"請輸入學生分數(最高300分)\"))\n",
    "is_add:str = input(\"學生是否符合加分條件?(y,n)\")\n",
    "if is_add == 'y':\n",
    "        score *= 1.05\n",
    "        if score > 300:\n",
    "            score = 300      \n",
    "print(f'學生總分數是{round(score)}')"
   ]
  },
  {
   "cell_type": "markdown",
   "metadata": {},
   "source": [
    "- 輸入學生分數，總分為300分\n",
    "- 檢查學生輸入的分數，是否大於300分\n",
    "- 由你決定學生可不可以加5%\n",
    "- 超過300分，以300分計算"
   ]
  },
  {
   "cell_type": "code",
   "execution_count": 22,
   "metadata": {},
   "outputs": [
    {
     "name": "stdout",
     "output_type": "stream",
     "text": [
      "輸入的分數不可以超過300分\n"
     ]
    }
   ],
   "source": [
    "score:int|float = int(input(\"請輸入學生分數(最高300分)\"))\n",
    "if score <= 300: # 記得加:\n",
    "    is_add:str = input(\"學生是否符合加分條件?(y,n)\")\n",
    "    if is_add == 'y':\n",
    "            score *= 1.05\n",
    "            if score > 300:\n",
    "                score = 300      \n",
    "    print(f'學生總分數是{round(score)}')\n",
    "else:\n",
    "    print(\"輸入的分數不可以超過300分\") # 要縮排"
   ]
  },
  {
   "cell_type": "markdown",
   "metadata": {},
   "source": [
    "- 程式raise Exception\n",
    "- try...exception"
   ]
  },
  {
   "cell_type": "code",
   "execution_count": 27,
   "metadata": {},
   "outputs": [
    {
     "name": "stdout",
     "output_type": "stream",
     "text": [
      "輸入格式有誤\n",
      "應用程式結束\n"
     ]
    },
    {
     "data": {
      "text/plain": [
       "54321"
      ]
     },
     "execution_count": 27,
     "metadata": {},
     "output_type": "execute_result"
    }
   ],
   "source": [
    "try:\n",
    "    money:int = int(input(\"請輸入金額:\")) # 如果格式不符，該次輸入的值不會給進此變數\n",
    "    print(money)\n",
    "except ValueError: # 只有處理ValueError的錯誤\n",
    "    print(\"輸入格式有誤\")\n",
    "print(\"應用程式結束\")\n",
    "money"
   ]
  },
  {
   "cell_type": "code",
   "execution_count": 30,
   "metadata": {},
   "outputs": [
    {
     "name": "stdout",
     "output_type": "stream",
     "text": [
      "輸入格式有誤:invalid literal for int() with base 10: '45eew'\n",
      "應用程式結束\n"
     ]
    }
   ],
   "source": [
    "try:\n",
    "    money:int = int(input(\"請輸入金額:\")) # 如果格式不符，該次輸入的值不會給進此變數\n",
    "    print(money)\n",
    "except Exception as e: # 處理任何的錯誤,輸出錯誤的內容  # e可以自訂\n",
    "    print(f\"輸入格式有誤:{e}\")\n",
    "print(\"應用程式結束\")"
   ]
  }
 ],
 "metadata": {
  "kernelspec": {
   "display_name": "Python 3",
   "language": "python",
   "name": "python3"
  },
  "language_info": {
   "codemirror_mode": {
    "name": "ipython",
    "version": 3
   },
   "file_extension": ".py",
   "mimetype": "text/x-python",
   "name": "python",
   "nbconvert_exporter": "python",
   "pygments_lexer": "ipython3",
   "version": "3.10.14"
  }
 },
 "nbformat": 4,
 "nbformat_minor": 2
}

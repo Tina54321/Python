{
 "cells": [
  {
   "cell_type": "markdown",
   "metadata": {},
   "source": [
    "## 操作方式和 DataClass一樣"
   ]
  },
  {
   "cell_type": "code",
   "execution_count": 2,
   "metadata": {},
   "outputs": [
    {
     "name": "stdout",
     "output_type": "stream",
     "text": [
      "Jone\n",
      "Smith\n",
      "42\n",
      "first_name='Jone' last_name='Smith' age=42\n"
     ]
    }
   ],
   "source": [
    "from pydantic import BaseModel\n",
    "\n",
    "class Person(BaseModel):  #繼承BaseModel\n",
    "    # field 欄位一定要有type hint\n",
    "    first_name:str\n",
    "    last_name:str\n",
    "    age:int\n",
    "\n",
    "p = Person(first_name=\"Jone\", last_name=\"Smith\", age=42)\n",
    "print(p.first_name)\n",
    "print(p.last_name)\n",
    "print(p.age)\n",
    "print(p)"
   ]
  },
  {
   "cell_type": "markdown",
   "metadata": {},
   "source": [
    "## dataclass做不到的\n",
    "- ### 驗證資料"
   ]
  },
  {
   "cell_type": "code",
   "execution_count": 6,
   "metadata": {},
   "outputs": [
    {
     "name": "stdout",
     "output_type": "stream",
     "text": [
      "first_name='Jone' last_name='Smith' age=42\n"
     ]
    }
   ],
   "source": [
    "p1 = Person(first_name=\"Jone\", last_name=\"Smith\", age=\"42\") #自動轉換型別 '42'-> 42\n",
    "print(p1)"
   ]
  },
  {
   "cell_type": "code",
   "execution_count": 4,
   "metadata": {},
   "outputs": [
    {
     "name": "stdout",
     "output_type": "stream",
     "text": [
      "1 validation error for Person\n",
      "age\n",
      "  Input should be a valid integer, unable to parse string as an integer [type=int_parsing, input_value='abc', input_type=str]\n",
      "    For further information visit https://errors.pydantic.dev/2.7/v/int_parsing\n"
     ]
    }
   ],
   "source": [
    "try:\n",
    "    p2 = Person(first_name=\"Jone\", last_name=\"Smith\", age=\"abc\") #age <> int\n",
    "except Exception as error:\n",
    "    print(error)"
   ]
  },
  {
   "cell_type": "markdown",
   "metadata": {},
   "source": [
    "## 可以將純文字轉成pydantic實體\n",
    "- # model_validate_json()"
   ]
  },
  {
   "cell_type": "code",
   "execution_count": 15,
   "metadata": {},
   "outputs": [
    {
     "name": "stdout",
     "output_type": "stream",
     "text": [
      "first_name='john' last_name='Smith' age=42\n"
     ]
    }
   ],
   "source": [
    "# json不能用單引號 # 要跟前面欄位名稱一樣\n",
    "data_json = '''   \n",
    "{\n",
    "    \"first_name\":\"john\", \n",
    "    \"last_name\":\"Smith\",\n",
    "    \"age\":\"42\"\n",
    "}\n",
    "'''\n",
    "p3 = Person.model_validate_json(data_json)\n",
    "print(p3)"
   ]
  },
  {
   "cell_type": "markdown",
   "metadata": {},
   "source": [
    "- # Pydantic功能 (dataclass沒有)"
   ]
  },
  {
   "cell_type": "markdown",
   "metadata": {},
   "source": [
    "## 可以選擇需要的欄位(可以過濾資料,不需要的欄位不用定義)"
   ]
  },
  {
   "cell_type": "code",
   "execution_count": 10,
   "metadata": {},
   "outputs": [
    {
     "name": "stdout",
     "output_type": "stream",
     "text": [
      "first_name='john' last_name='Smith' age=42\n"
     ]
    }
   ],
   "source": [
    "data_json = '''     \n",
    "{\n",
    "    \"first_name\":\"john\",\n",
    "    \"last_name\":\"Smith\",\n",
    "    \"age\":42,\n",
    "    \"height\":173  \n",
    "}\n",
    "'''\n",
    "p4 = Person.model_validate_json(data_json)\n",
    "print(p4)"
   ]
  },
  {
   "cell_type": "markdown",
   "metadata": {},
   "source": [
    "## 可以設定取得的資料,如果沒有這個欄位,設定欄位預設值(dataClass沒有此功能)"
   ]
  },
  {
   "cell_type": "code",
   "execution_count": 12,
   "metadata": {},
   "outputs": [
    {
     "name": "stdout",
     "output_type": "stream",
     "text": [
      "first_name='john' last_name='Smith' age=0 lucky_number=[1, 2, 3, 4, 5]\n"
     ]
    }
   ],
   "source": [
    "class Person(BaseModel):  \n",
    "    # field 欄位一定要有type hint\n",
    "    first_name:str #一定要有資料類型\n",
    "    last_name:str \n",
    "    age:int = 0 #有預設的值\n",
    "    lucky_numbers:list[int] = []\n",
    "\n",
    "data_json = '''     \n",
    "{\n",
    "    \"first_name\":\"john\",\n",
    "    \"last_name\":\"Smith\",\n",
    "    \"lucky_numbers\":[1,2,3,4,\"5\"]\n",
    "}\n",
    "'''\n",
    "p4 = Person.model_validate_json(data_json)\n",
    "print(p4)"
   ]
  },
  {
   "cell_type": "markdown",
   "metadata": {},
   "source": [
    "- ### 有時候欄位會用 中文"
   ]
  },
  {
   "cell_type": "code",
   "execution_count": 10,
   "metadata": {},
   "outputs": [
    {
     "name": "stdout",
     "output_type": "stream",
     "text": [
      "id_=100 first_name='John' last_name='Smith' age=42\n"
     ]
    }
   ],
   "source": [
    "data_json = '''     \n",
    "{\n",
    "    \"id\":100,\n",
    "    \"First Name\":\"John\",  # \",\"不要忘\n",
    "    \"LASTNAME\":\"Smith\",\n",
    "    \"age in years\":42\n",
    "}\n",
    "'''\n",
    "\n",
    "from pydantic import BaseModel, Field\n",
    "\n",
    "class Person(BaseModel):\n",
    "    id_:int = Field(alias=\"id\")\n",
    "    first_name:str = Field(alias=\"First Name\")\n",
    "    last_name:str = Field(alias=\"LASTNAME\")\n",
    "    age:int = Field(alias=\"age in years\",default=0) #set default value\n",
    "\n",
    "p1 = Person.model_validate_json(data_json)\n",
    "print(p1)"
   ]
  },
  {
   "cell_type": "markdown",
   "metadata": {},
   "source": [
    "## 巢狀的Model"
   ]
  },
  {
   "cell_type": "code",
   "execution_count": 2,
   "metadata": {},
   "outputs": [
    {
     "name": "stdout",
     "output_type": "stream",
     "text": [
      "Lunar Colony\n",
      "Central City\n"
     ]
    }
   ],
   "source": [
    "data:str = '''\n",
    "{\n",
    "    \"firstName\": \"Arthur\",\n",
    "    \"lastName\": \"Clarke\",\n",
    "    \"born\":{\n",
    "        \"place\":{\n",
    "            \"country\":\"Lunar Colony\",\n",
    "            \"city\": \"Central City\"\n",
    "        },\n",
    "        \"date\":\"2001-01-01\"\n",
    "    }\n",
    "}\n",
    "'''\n",
    "from pydantic import BaseModel, Field # 解構json複雜的文字檔,由內而外建立dict\n",
    "class Place(BaseModel):\n",
    "    country:str\n",
    "    city:str\n",
    "\n",
    "class Born(BaseModel):\n",
    "    place:Place\n",
    "    date:str\n",
    "\n",
    "class Person(BaseModel):\n",
    "    first_name:str = Field(alias=\"firstName\")\n",
    "    last_name:str = Field(alias=\"lastName\")\n",
    "    born:Born\n",
    "\n",
    "p1 = Person.model_validate_json(data)\n",
    "print(p1.born.place.country)\n",
    "print(p1.born.place.city)"
   ]
  }
 ],
 "metadata": {
  "kernelspec": {
   "display_name": "Python 3",
   "language": "python",
   "name": "python3"
  },
  "language_info": {
   "codemirror_mode": {
    "name": "ipython",
    "version": 3
   },
   "file_extension": ".py",
   "mimetype": "text/x-python",
   "name": "python",
   "nbconvert_exporter": "python",
   "pygments_lexer": "ipython3",
   "version": "3.12.4"
  }
 },
 "nbformat": 4,
 "nbformat_minor": 2
}

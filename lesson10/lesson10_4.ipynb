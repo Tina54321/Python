{
 "cells": [
  {
   "cell_type": "code",
   "execution_count": null,
   "metadata": {},
   "outputs": [],
   "source": [
    "import json\n",
    "with open('aqx_p_488.json', encoding='utf-8') as file:\n",
    "    data:dict = json.loads(file.read())\n",
    "    data_list:list = data[\"records\"]\n",
    "\n",
    "for site in data_list:\n",
    "    print(site)"
   ]
  },
  {
   "cell_type": "code",
   "execution_count": null,
   "metadata": {},
   "outputs": [],
   "source": [
    "from csv import DictReader\n",
    "\n",
    "with open('個股日成交資訊.csv', encoding='utf-8', newline='') as file:\n",
    "    data:DictReader = DictReader(file)\n",
    "    stocks:list[dict] = list(data)\n",
    "    \n",
    "for stock in stocks:\n",
    "    print(stock)"
   ]
  }
 ],
 "metadata": {
  "kernelspec": {
   "display_name": "Python 3",
   "language": "python",
   "name": "python3"
  },
  "language_info": {
   "codemirror_mode": {
    "name": "ipython",
    "version": 3
   },
   "file_extension": ".py",
   "mimetype": "text/x-python",
   "name": "python",
   "nbconvert_exporter": "python",
   "pygments_lexer": "ipython3",
   "version": "3.12.3"
  }
 },
 "nbformat": 4,
 "nbformat_minor": 2
}

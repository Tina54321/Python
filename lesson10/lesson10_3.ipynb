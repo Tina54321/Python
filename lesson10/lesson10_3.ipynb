{
 "cells": [
  {
   "cell_type": "code",
   "execution_count": null,
   "metadata": {},
   "outputs": [],
   "source": [
    "from csv import DictReader      # 一個list會有很多個dictionary(一筆一筆的data),key就是標題\n",
    "\n",
    "with open('aqx_p_488.csv', encoding='utf-8', newline='') as file: # newline='',可保持不同文件中的換行符號一致\n",
    "    reader:DictReader = DictReader(file)\n",
    "    sites:list = list(reader)\n",
    "\n",
    "for site in sites:\n",
    "    print(site['sitename'],site['county'],site['aqi'],site['status'])"
   ]
  }
 ],
 "metadata": {
  "kernelspec": {
   "display_name": "Python 3",
   "language": "python",
   "name": "python3"
  },
  "language_info": {
   "codemirror_mode": {
    "name": "ipython",
    "version": 3
   },
   "file_extension": ".py",
   "mimetype": "text/x-python",
   "name": "python",
   "nbconvert_exporter": "python",
   "pygments_lexer": "ipython3",
   "version": "3.12.3"
  }
 },
 "nbformat": 4,
 "nbformat_minor": 2
}

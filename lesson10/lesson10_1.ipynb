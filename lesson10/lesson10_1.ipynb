{
 "cells": [
  {
   "cell_type": "code",
   "execution_count": 9,
   "metadata": {},
   "outputs": [],
   "source": [
    "file = open('names.txt', encoding='utf-8')\n",
    "#type(file)   _io.TextIOWrapper\n",
    "file.close()     # method 可變更程式狀態-->真正關閉的動作\n",
    "#file.closed     # property可讀不可改 -->確認是否關閉\n",
    "\n",
    "# display與print的區別是:display只可用在.ipynb,且他會輸出格式"
   ]
  },
  {
   "cell_type": "code",
   "execution_count": 12,
   "metadata": {},
   "outputs": [
    {
     "name": "stdout",
     "output_type": "stream",
     "text": [
      "<class 'str'>\n"
     ]
    }
   ],
   "source": [
    "with open('names.txt', encoding='utf-8') as file: # utf-8是國際通用'中文字'編碼\n",
    "    content:str = file.read()\n",
    "\n",
    "print(type(content))"
   ]
  },
  {
   "cell_type": "code",
   "execution_count": 7,
   "metadata": {},
   "outputs": [
    {
     "name": "stdout",
     "output_type": "stream",
     "text": [
      "r o b e r t "
     ]
    }
   ],
   "source": [
    "for letter in 'robert':  # 字串是文本序列資料,可放在for...in...後面\n",
    "    print(letter, end=' ')"
   ]
  },
  {
   "cell_type": "code",
   "execution_count": 1,
   "metadata": {},
   "outputs": [
    {
     "name": "stdout",
     "output_type": "stream",
     "text": [
      "陳怡伶\n",
      "馮芳如\n",
      "蒙淑惠\n",
      "=============\n",
      "陳怡伶\n",
      "馮芳如\n",
      "蒙淑惠\n",
      "['陳怡伶', '馮芳如']\n",
      "['陳怡伶', '馮芳如', '蒙淑惠', '張軒宸', '陳向愛']\n",
      "['李淑芳', '謝南慧', '趙家豪', '龐皓芳', '張彥博']\n"
     ]
    }
   ],
   "source": [
    "with open('names.txt', encoding='utf-8') as file: # utf-8是國際通用'中文字'編碼\n",
    "    content:str = file.read()\n",
    "\n",
    "names:list[str] = content.split(sep='\\n')\n",
    "for name in names[:3]:\n",
    "    print(name)\n",
    "print('=============')\n",
    "# subscript的語法\n",
    "print(names[0])\n",
    "print(names[1])\n",
    "print(names[2])\n",
    "print(names[0:2]) # slice 切割出新的list\n",
    "print(names[:5]) # slice ->前5個\n",
    "print(names[-5:])  # slice ->後5個\n"
   ]
  },
  {
   "cell_type": "code",
   "execution_count": 3,
   "metadata": {},
   "outputs": [
    {
     "name": "stdout",
     "output_type": "stream",
     "text": [
      "[]\n",
      "['a', 'b', 'c']\n",
      "[]\n",
      "['a', 'b', 'c']\n"
     ]
    }
   ],
   "source": [
    "#建立空的list,使用初始化()\n",
    "print(list())\n",
    "print(list('abc'))\n",
    "# print(list(['a', 'b', 'c']))\n",
    "\n",
    "#建立空的list,使用純值表示法\n",
    "print([])\n",
    "print(['a', 'b', 'c'])\n",
    "\n"
   ]
  }
 ],
 "metadata": {
  "kernelspec": {
   "display_name": "Python 3",
   "language": "python",
   "name": "python3"
  },
  "language_info": {
   "codemirror_mode": {
    "name": "ipython",
    "version": 3
   },
   "file_extension": ".py",
   "mimetype": "text/x-python",
   "name": "python",
   "nbconvert_exporter": "python",
   "pygments_lexer": "ipython3",
   "version": "3.12.3"
  }
 },
 "nbformat": 4,
 "nbformat_minor": 2
}

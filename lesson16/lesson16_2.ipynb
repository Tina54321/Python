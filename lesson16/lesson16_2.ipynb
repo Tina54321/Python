{
 "cells": [
  {
   "cell_type": "code",
   "execution_count": null,
   "metadata": {},
   "outputs": [],
   "source": [
    "# list comprehension ->快速建立list\n",
    "[f'{num}號' for num in range(1,51)]"
   ]
  },
  {
   "cell_type": "code",
   "execution_count": null,
   "metadata": {},
   "outputs": [],
   "source": [
    "import numpy as np\n",
    "import pandas as pd\n",
    "array_2d = np.random.randint(50,100,size=(50,5))\n",
    "df1 = pd.DataFrame(array_2d,\n",
    "             columns=['國文','英文','數學','地理','社會'],\n",
    "             index = [f'{num}號' for num in range(1,51)]\n",
    "            )\n",
    "df1"
   ]
  },
  {
   "cell_type": "code",
   "execution_count": null,
   "metadata": {},
   "outputs": [],
   "source": [
    "#從Dataframe取出ndarray\n",
    "df1.values"
   ]
  },
  {
   "cell_type": "code",
   "execution_count": null,
   "metadata": {},
   "outputs": [],
   "source": [
    "#dataFrame [欄位名稱] subscript\n",
    "df1['國文'], df1['英文'] # 多個Series為一個dataFrame,series只有index,沒有column"
   ]
  },
  {
   "cell_type": "code",
   "execution_count": 5,
   "metadata": {},
   "outputs": [
    {
     "name": "stderr",
     "output_type": "stream",
     "text": [
      "/tmp/ipykernel_35840/651128822.py:3: FutureWarning: Series.__getitem__ treating keys as positions is deprecated. In a future version, integer keys will always be treated as labels (consistent with DataFrame behavior). To access a value by position, use `ser.iloc[pos]`\n",
      "  df1['國文'][0]\n"
     ]
    },
    {
     "data": {
      "text/plain": [
       "1號    69\n",
       "2號    98\n",
       "3號    72\n",
       "Name: 國文, dtype: int64"
      ]
     },
     "execution_count": 5,
     "metadata": {},
     "output_type": "execute_result"
    }
   ],
   "source": [
    "#Series的選取, 使用subscript\n",
    "#Series [數值的index]\n",
    "df1['國文'][0]\n",
    "#Series[數值的slice]\n",
    "df1['國文'][:5]\n",
    "#Series[字串的index]\n",
    "df1['國文']['1號']\n",
    "#Series[[字串,字串,字串]]\n",
    "df1['國文'][['1號','2號','3號']]"
   ]
  },
  {
   "cell_type": "code",
   "execution_count": null,
   "metadata": {},
   "outputs": [],
   "source": [
    "#dataFrame的subscripts\n",
    "#dataFrame[欄位名稱]\n",
    "df1['國文']"
   ]
  },
  {
   "cell_type": "code",
   "execution_count": null,
   "metadata": {},
   "outputs": [],
   "source": [
    "#dataFrame的subscripts\n",
    "#dataFrame[欄位名稱,欄位名稱]\n",
    "df1[['國文','英文']]"
   ]
  }
 ],
 "metadata": {
  "kernelspec": {
   "display_name": "Python 3",
   "language": "python",
   "name": "python3"
  },
  "language_info": {
   "codemirror_mode": {
    "name": "ipython",
    "version": 3
   },
   "file_extension": ".py",
   "mimetype": "text/x-python",
   "name": "python",
   "nbconvert_exporter": "python",
   "pygments_lexer": "ipython3",
   "version": "3.10.14"
  }
 },
 "nbformat": 4,
 "nbformat_minor": 2
}

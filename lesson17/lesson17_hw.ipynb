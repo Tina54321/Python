{
 "cells": [
  {
   "cell_type": "code",
   "execution_count": 10,
   "metadata": {},
   "outputs": [],
   "source": [
    "import pandas as pd\n",
    "\n",
    "df1 = pd.read_csv('world.csv')\n",
    "df2 = df1.reindex(columns=['洲名', '國家', '日期', '總確診數', '新增確診數'])\n",
    "conutry_df = df2.query(\"國家=='台灣' or 國家=='日本'\")\n",
    "date_df = conutry_df.query('日期>= \"2021-01-01\" and 日期<= \"2021-12-31\"')\n",
    "\n",
    "date_df.to_csv('tw_jp_2021.csv', index=False)\n",
    "date_df.to_excel('tw_jp_2021.xlsx', index=False, sheet_name='2021')\n",
    "date_df.to_json('tw_jp_2021.json', orient='table',force_ascii=False)"
   ]
  }
 ],
 "metadata": {
  "kernelspec": {
   "display_name": "Python 3",
   "language": "python",
   "name": "python3"
  },
  "language_info": {
   "codemirror_mode": {
    "name": "ipython",
    "version": 3
   },
   "file_extension": ".py",
   "mimetype": "text/x-python",
   "name": "python",
   "nbconvert_exporter": "python",
   "pygments_lexer": "ipython3",
   "version": "3.10.14"
  }
 },
 "nbformat": 4,
 "nbformat_minor": 2
}

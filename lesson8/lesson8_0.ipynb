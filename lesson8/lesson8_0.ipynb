{
 "cells": [
  {
   "cell_type": "code",
   "execution_count": 2,
   "metadata": {},
   "outputs": [
    {
     "name": "stdout",
     "output_type": "stream",
     "text": [
      "請輸入整數，求所有因數: 'ese' is not an integer.\n",
      "請輸入整數，求所有因數: Blank values are not allowed.\n",
      "請輸入整數，求所有因數: '46.664' is not an integer.\n",
      "請輸入整數，求所有因數: '10.545' is not an integer.\n",
      "請輸入整數，求所有因數: 600\n",
      "600的因數是:\n",
      "1 2 3 4 5 6 8 10 12 15 20 24 25 30 40 50 60 75 100 120 150 200 300 600 "
     ]
    }
   ],
   "source": [
    "import pyinputplus as pyip\n",
    "\n",
    "num = pyip.inputInt(\"請輸入整數，求所有因數: \", min=1); print(num)\n",
    "print(f'{num}的因數是:')\n",
    "\n",
    "for i in range(1, num+1):\n",
    "    if num % i == 0:\n",
    "     print(i, end=' ')"
   ]
  }
 ],
 "metadata": {
  "kernelspec": {
   "display_name": "Python 3",
   "language": "python",
   "name": "python3"
  },
  "language_info": {
   "codemirror_mode": {
    "name": "ipython",
    "version": 3
   },
   "file_extension": ".py",
   "mimetype": "text/x-python",
   "name": "python",
   "nbconvert_exporter": "python",
   "pygments_lexer": "ipython3",
   "version": "3.10.14"
  }
 },
 "nbformat": 4,
 "nbformat_minor": 2
}

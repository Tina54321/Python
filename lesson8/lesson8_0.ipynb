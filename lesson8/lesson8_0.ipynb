{
 "cells": [
  {
   "cell_type": "code",
   "execution_count": 2,
   "metadata": {},
   "outputs": [
    {
     "name": "stdout",
     "output_type": "stream",
     "text": [
      "請輸入整數，求所有因數: 'ese' is not an integer.\n",
      "請輸入整數，求所有因數: Blank values are not allowed.\n",
      "請輸入整數，求所有因數: '46.664' is not an integer.\n",
      "請輸入整數，求所有因數: '10.545' is not an integer.\n",
      "請輸入整數，求所有因數: 600\n",
      "600的因數是:\n",
      "1 2 3 4 5 6 8 10 12 15 20 24 25 30 40 50 60 75 100 120 150 200 300 600 "
     ]
    }
   ],
   "source": [
    "import pyinputplus as pyip\n",
    "\n",
    "num = pyip.inputInt(\"請輸入整數，求所有因數: \", min=1); print(num)\n",
    "print(f'{num}的因數是:')\n",
    "\n",
    "for i in range(1, num+1):\n",
    "    if num % i == 0:\n",
    "     print(i, end=' ')"
   ]
  },
  {
   "cell_type": "code",
   "execution_count": 10,
   "metadata": {},
   "outputs": [
    {
     "name": "stdout",
     "output_type": "stream",
     "text": [
      "=========猜數字遊戲============\n",
      "\n",
      "猜數字的範圍1~100:再小一點\n",
      "您已經猜了1次\n",
      "猜數字的範圍1~49:Blank values are not allowed.\n",
      "猜數字的範圍1~49:再小一點\n",
      "您已經猜了2次\n",
      "猜數字的範圍1~29:再大一點\n",
      "您已經猜了3次\n",
      "猜數字的範圍14~29:Blank values are not allowed.\n",
      "猜數字的範圍14~29:再大一點\n",
      "您已經猜了4次\n",
      "猜數字的範圍19~29:Blank values are not allowed.\n",
      "猜數字的範圍19~29:再大一點\n",
      "您已經猜了5次\n",
      "猜數字的範圍26~29:再大一點\n",
      "您已經猜了6次\n",
      "猜數字的範圍28~29:再大一點\n",
      "您已經猜了7次\n",
      "猜數字的範圍29~29:賓果!猜對了,答案是:29\n",
      "您總共猜了8次\n",
      "遊戲結束\n"
     ]
    }
   ],
   "source": [
    "import random\n",
    "import pyinputplus as pyip\n",
    "\n",
    "min = 1\n",
    "max = 100\n",
    "count = 0\n",
    "target = random.randint(min, max)\n",
    "print(\"=========猜數字遊戲============\\n\")\n",
    "while True:\n",
    "    count += 1\n",
    "    keyin = pyip.inputInt(f\"猜數字的範圍{min}~{max}:\")\n",
    "    if keyin == target:\n",
    "        print(f\"賓果!猜對了,答案是:{target}\")\n",
    "        print(f\"您總共猜了{count}次\")\n",
    "        break\n",
    "    elif(keyin > target):\n",
    "        print(\"再小一點\")\n",
    "        max = keyin - 1\n",
    "    elif(keyin < target):\n",
    "        print(\"再大一點\")\n",
    "        min = keyin + 1\n",
    "    print(f\"您已經猜了{count}次\")\n",
    "\n",
    "print(\"遊戲結束\")"
   ]
  },
  {
   "cell_type": "code",
   "execution_count": 8,
   "metadata": {},
   "outputs": [
    {
     "ename": "ModuleNotFoundError",
     "evalue": "No module named 'randrange'",
     "output_type": "error",
     "traceback": [
      "\u001b[0;31m---------------------------------------------------------------------------\u001b[0m",
      "\u001b[0;31mModuleNotFoundError\u001b[0m                       Traceback (most recent call last)",
      "Cell \u001b[0;32mIn[8], line 1\u001b[0m\n\u001b[0;32m----> 1\u001b[0m \u001b[38;5;28;01mimport\u001b[39;00m \u001b[38;5;21;01mrandrange\u001b[39;00m\n\u001b[1;32m      2\u001b[0m randrange(\u001b[38;5;241m1\u001b[39m,\u001b[38;5;241m100\u001b[39m)\n",
      "\u001b[0;31mModuleNotFoundError\u001b[0m: No module named 'randrange'"
     ]
    }
   ],
   "source": []
  }
 ],
 "metadata": {
  "kernelspec": {
   "display_name": "Python 3",
   "language": "python",
   "name": "python3"
  },
  "language_info": {
   "codemirror_mode": {
    "name": "ipython",
    "version": 3
   },
   "file_extension": ".py",
   "mimetype": "text/x-python",
   "name": "python",
   "nbconvert_exporter": "python",
   "pygments_lexer": "ipython3",
   "version": "3.10.14"
  }
 },
 "nbformat": 4,
 "nbformat_minor": 2
}

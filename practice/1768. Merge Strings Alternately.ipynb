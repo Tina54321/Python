{
 "cells": [
  {
   "cell_type": "code",
   "execution_count": 1,
   "metadata": {},
   "outputs": [
    {
     "name": "stdout",
     "output_type": "stream",
     "text": [
      "cefee\n"
     ]
    }
   ],
   "source": [
    "word1 = 'cf'\n",
    "word2 = 'eee'\n",
    "i = len(word1)\n",
    "j = len(word2)\n",
    "diff = abs(i-j)\n",
    "if i < j:\n",
    "    k = i\n",
    "    word = word2\n",
    "elif i > j:\n",
    "    k = j\n",
    "    word = word1\n",
    "else:\n",
    "    k = i\n",
    "    word = word1\n",
    "\n",
    "for k in range(0,k):\n",
    "    str_mix = print(word1[k]+ word2[k], end='')\n",
    "\n",
    "print(word[-diff:])"
   ]
  },
  {
   "cell_type": "code",
   "execution_count": 2,
   "metadata": {},
   "outputs": [
    {
     "name": "stdout",
     "output_type": "stream",
     "text": [
      "0\n",
      "1\n",
      "2\n"
     ]
    }
   ],
   "source": [
    "word1 = 'ab'\n",
    "word2 = 'pqrs'\n",
    "i = len(word1)\n",
    "j = len(word2)\n",
    "abs(i-j)\n",
    "if i < j:\n",
    "    k = i\n",
    "elif i > j:\n",
    "    k = j\n",
    "else:\n",
    "    k = i\n",
    "for str in range(0,k+1):\n",
    "    print(str)"
   ]
  },
  {
   "cell_type": "code",
   "execution_count": 40,
   "metadata": {},
   "outputs": [
    {
     "data": {
      "text/plain": [
       "'cefee'"
      ]
     },
     "execution_count": 40,
     "metadata": {},
     "output_type": "execute_result"
    }
   ],
   "source": [
    "class Solution:\n",
    "    def mergeAlternately(self, w1: str, w2: str) -> str:\n",
    "        self.word1 = w1\n",
    "        self.word2 = w2\n",
    "        i = len(w1)\n",
    "        j = len(w2)\n",
    "        diff = i-j\n",
    "        str0 = []\n",
    "\n",
    "        if i < j:\n",
    "            k = i\n",
    "            word = w2\n",
    "        elif i > j:\n",
    "            k = j\n",
    "            word = w1\n",
    "            diff = -diff\n",
    "        else:\n",
    "            k = i\n",
    "            word = w1\n",
    "            diff = len(w1)\n",
    "\n",
    "        for k in range(0,k):\n",
    "            str0 += w1[k]+ w2[k]\n",
    "\n",
    "        str_diff = list(word[diff:])\n",
    "        return \"\".join(str0 + str_diff)\n",
    "\n",
    "p = Solution()\n",
    "p.mergeAlternately('cf','eee')"
   ]
  },
  {
   "cell_type": "code",
   "execution_count": 33,
   "metadata": {},
   "outputs": [
    {
     "data": {
      "text/plain": [
       "''"
      ]
     },
     "execution_count": 33,
     "metadata": {},
     "output_type": "execute_result"
    }
   ],
   "source": [
    "a=\"abc\"\n",
    "a[4:]"
   ]
  },
  {
   "cell_type": "code",
   "execution_count": null,
   "metadata": {},
   "outputs": [],
   "source": [
    "class MyClass:\n",
    "    def mergeAlternately(self, word1: str, word2: str) -> str:\n",
    "        merged = []\n",
    "        for w1, w2 in zip(word1, word2):\n",
    "            merged.append(w1)\n",
    "            merged.append(w2)\n",
    "        # Append remaining characters from the longer word\n",
    "        merged.extend(word1[len(word2):])\n",
    "        merged.extend(word2[len(word1):])\n",
    "        # Use str.join to concatenate the merged list into a single string\n",
    "        return ''.join(merged)\n",
    "\n",
    "my_instance = MyClass()\n",
    "result = my_instance.mergeAlternately(\"abc\", \"defg\")\n",
    "print(result)  # Output: \"adbecfg\""
   ]
  },
  {
   "cell_type": "code",
   "execution_count": 7,
   "metadata": {},
   "outputs": [
    {
     "data": {
      "text/plain": [
       "['a', 'p', 'b', 'q', 'c', 'r', 's', 't']"
      ]
     },
     "execution_count": 7,
     "metadata": {},
     "output_type": "execute_result"
    }
   ],
   "source": [
    "w1 = 'abc'\n",
    "w2 = 'pqrst'\n",
    "i = len(w1)\n",
    "j = len(w2)\n",
    "diff = abs(i-j)\n",
    "str = []\n",
    "\n",
    "if i < j:\n",
    "    k = i\n",
    "    word = w2\n",
    "elif i > j:\n",
    "    k = j\n",
    "    word = w1\n",
    "else:\n",
    "    k = i\n",
    "    word = w1\n",
    "\n",
    "for k in range(0,k):\n",
    "    str += w1[k]+ w2[k]\n",
    "\n",
    "str_d = list(word[-diff:])\n",
    "str + str_d"
   ]
  },
  {
   "cell_type": "code",
   "execution_count": 32,
   "metadata": {},
   "outputs": [
    {
     "data": {
      "text/plain": [
       "[]"
      ]
     },
     "execution_count": 32,
     "metadata": {},
     "output_type": "execute_result"
    }
   ],
   "source": [
    "word = 'abcde'\n",
    "list(word[6:])\n",
    "list()"
   ]
  },
  {
   "cell_type": "code",
   "execution_count": 24,
   "metadata": {},
   "outputs": [
    {
     "ename": "TypeError",
     "evalue": "'int' object is not iterable",
     "output_type": "error",
     "traceback": [
      "\u001b[0;31m---------------------------------------------------------------------------\u001b[0m",
      "\u001b[0;31mTypeError\u001b[0m                                 Traceback (most recent call last)",
      "Cell \u001b[0;32mIn[24], line 33\u001b[0m\n\u001b[1;32m     30\u001b[0m         \u001b[38;5;28;01mreturn\u001b[39;00m \u001b[38;5;124m\"\u001b[39m\u001b[38;5;124m\"\u001b[39m\u001b[38;5;241m.\u001b[39mjoin(str0 \u001b[38;5;241m+\u001b[39m str_diff)\n\u001b[1;32m     32\u001b[0m p \u001b[38;5;241m=\u001b[39m Solution()\n\u001b[0;32m---> 33\u001b[0m \u001b[43mp\u001b[49m\u001b[38;5;241;43m.\u001b[39;49m\u001b[43mmergeAlternately\u001b[49m\u001b[43m(\u001b[49m\u001b[38;5;124;43m'\u001b[39;49m\u001b[38;5;124;43mcf\u001b[39;49m\u001b[38;5;124;43m'\u001b[39;49m\u001b[43m,\u001b[49m\u001b[38;5;124;43m'\u001b[39;49m\u001b[38;5;124;43meee\u001b[39;49m\u001b[38;5;124;43m'\u001b[39;49m\u001b[43m)\u001b[49m\n",
      "Cell \u001b[0;32mIn[24], line 8\u001b[0m, in \u001b[0;36mSolution.mergeAlternately\u001b[0;34m(self, word1, word2)\u001b[0m\n\u001b[1;32m      6\u001b[0m j \u001b[38;5;241m=\u001b[39m \u001b[38;5;28mlen\u001b[39m(word2)\n\u001b[1;32m      7\u001b[0m \u001b[38;5;66;03m# diff = abs(i-j)\u001b[39;00m\n\u001b[0;32m----> 8\u001b[0m str0 \u001b[38;5;241m=\u001b[39m \u001b[38;5;28;43mlist\u001b[39;49m\u001b[43m(\u001b[49m\u001b[38;5;241;43m5\u001b[39;49m\u001b[43m)\u001b[49m\n\u001b[1;32m     10\u001b[0m \u001b[38;5;28;01mif\u001b[39;00m i \u001b[38;5;241m<\u001b[39m j:\n\u001b[1;32m     11\u001b[0m     k \u001b[38;5;241m=\u001b[39m i\n",
      "\u001b[0;31mTypeError\u001b[0m: 'int' object is not iterable"
     ]
    }
   ],
   "source": [
    "class Solution:\n",
    "    def mergeAlternately(self, word1: str, word2: str) -> str:\n",
    "        self.word1 = word1\n",
    "        self.word2 = word2\n",
    "        i = len(word1)\n",
    "        j = len(word2)\n",
    "        # diff = abs(i-j)\n",
    "        str0 = list(5)\n",
    "\n",
    "        if i < j:\n",
    "            k = i\n",
    "            word = word2\n",
    "        elif i > j:\n",
    "            k = j\n",
    "            word = word1\n",
    "            #diff = -diff\n",
    "        else:\n",
    "            k = i\n",
    "            word = word1\n",
    "            #diff = len(word1)\n",
    "\n",
    "        for index in range(0,k):\n",
    "            # str0.append( word1[index]+ word2[index])\n",
    "            str0[index] = word1[index]+ word2[index]\n",
    "\n",
    "            print(type(str0))\n",
    "            print(str0)\n",
    "\n",
    "        str_diff = list(word[k:])\n",
    "        return \"\".join(str0 + str_diff)\n",
    "\n",
    "p = Solution()\n",
    "p.mergeAlternately('cf','eee')"
   ]
  }
 ],
 "metadata": {
  "kernelspec": {
   "display_name": "Python 3",
   "language": "python",
   "name": "python3"
  },
  "language_info": {
   "codemirror_mode": {
    "name": "ipython",
    "version": 3
   },
   "file_extension": ".py",
   "mimetype": "text/x-python",
   "name": "python",
   "nbconvert_exporter": "python",
   "pygments_lexer": "ipython3",
   "version": "3.10.14"
  }
 },
 "nbformat": 4,
 "nbformat_minor": 2
}

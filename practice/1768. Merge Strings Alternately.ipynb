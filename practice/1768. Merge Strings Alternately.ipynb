{
 "cells": [
  {
   "cell_type": "code",
   "execution_count": 1,
   "metadata": {},
   "outputs": [
    {
     "name": "stdout",
     "output_type": "stream",
     "text": [
      "apbqrs\n"
     ]
    }
   ],
   "source": [
    "word1 = 'ab'\n",
    "word2 = 'pqrs'\n",
    "i = len(word1)\n",
    "j = len(word2)\n",
    "diff = abs(i-j)\n",
    "if i < j:\n",
    "    k = i\n",
    "    word = word2\n",
    "elif i > j:\n",
    "    k = j\n",
    "    word = word1\n",
    "else:\n",
    "    k = i\n",
    "    word = word1\n",
    "\n",
    "for k in range(0,k):\n",
    "    str_mix = print(word1[k]+ word2[k], end='')\n",
    "\n",
    "print(word[-diff:])"
   ]
  },
  {
   "cell_type": "code",
   "execution_count": 2,
   "metadata": {},
   "outputs": [
    {
     "name": "stdout",
     "output_type": "stream",
     "text": [
      "0\n",
      "1\n",
      "2\n"
     ]
    }
   ],
   "source": [
    "word1 = 'ab'\n",
    "word2 = 'pqrs'\n",
    "i = len(word1)\n",
    "j = len(word2)\n",
    "abs(i-j)\n",
    "if i < j:\n",
    "    k = i\n",
    "elif i > j:\n",
    "    k = j\n",
    "else:\n",
    "    k = i\n",
    "for str in range(0,k+1):\n",
    "    print(str)"
   ]
  },
  {
   "cell_type": "code",
   "execution_count": 3,
   "metadata": {},
   "outputs": [
    {
     "name": "stdout",
     "output_type": "stream",
     "text": [
      "apbqcrstuv\n"
     ]
    }
   ],
   "source": [
    "class Solution:\n",
    "    def mergeAlternately(self, w1: str, w2: str) -> str:\n",
    "        self.word1 = w1\n",
    "        self.word2 = w2\n",
    "        i = len(w1)\n",
    "        j = len(w2)\n",
    "        diff = abs(i-j)\n",
    "        if i < j:\n",
    "            k = i\n",
    "            word = w2\n",
    "        elif i > j:\n",
    "            k = j\n",
    "            word = w1\n",
    "        else:\n",
    "            k = i\n",
    "            word = w1\n",
    "\n",
    "        for k in range(0,k):\n",
    "            str_mix = print(w1[k]+ w2[k], end='')\n",
    "\n",
    "        print(word[-diff:])\n",
    "\n",
    "p = Solution()\n",
    "p.mergeAlternately('abc','pqrstuv')"
   ]
  },
  {
   "cell_type": "code",
   "execution_count": null,
   "metadata": {},
   "outputs": [],
   "source": [
    "class MyClass:\n",
    "    def mergeAlternately(self, word1: str, word2: str) -> str:\n",
    "        merged = []\n",
    "        for w1, w2 in zip(word1, word2):\n",
    "            merged.append(w1)\n",
    "            merged.append(w2)\n",
    "        # Append remaining characters from the longer word\n",
    "        merged.extend(word1[len(word2):])\n",
    "        merged.extend(word2[len(word1):])\n",
    "        # Use str.join to concatenate the merged list into a single string\n",
    "        return ''.join(merged)\n",
    "\n",
    "my_instance = MyClass()\n",
    "result = my_instance.mergeAlternately(\"abc\", \"defg\")\n",
    "print(result)  # Output: \"adbecfg\""
   ]
  },
  {
   "cell_type": "code",
   "execution_count": null,
   "metadata": {},
   "outputs": [],
   "source": [
    "merged = []\n",
    "word1 = 'abc'\n",
    "word2 = 'pqrs'\n",
    "merged = zip(word1,word2)\n",
    "#for w1,w2 in zip(word1,word2):\n",
    " #   merged.append(word1)  # Appending a single character\n",
    " #   merged.append(word2)\n",
    "merged"
   ]
  }
 ],
 "metadata": {
  "kernelspec": {
   "display_name": "Python 3",
   "language": "python",
   "name": "python3"
  },
  "language_info": {
   "codemirror_mode": {
    "name": "ipython",
    "version": 3
   },
   "file_extension": ".py",
   "mimetype": "text/x-python",
   "name": "python",
   "nbconvert_exporter": "python",
   "pygments_lexer": "ipython3",
   "version": "3.12.2"
  }
 },
 "nbformat": 4,
 "nbformat_minor": 2
}

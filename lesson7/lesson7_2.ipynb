{
 "cells": [
  {
   "cell_type": "code",
   "execution_count": 13,
   "metadata": {},
   "outputs": [
    {
     "name": "stdout",
     "output_type": "stream",
     "text": [
      "請輸入第1月存個金額:4567\n",
      "請輸入第2月存個金額:4568\n",
      "請輸入第3月存個金額:1325\n",
      "請輸入第4月存個金額:6546\n",
      "請輸入第5月存個金額:6548\n",
      "請輸入第6月存個金額:9878\n",
      "\n",
      "最後一次存的金額是:9878元\n",
      "小明總共存了6個月,已經存了33432元\n"
     ]
    }
   ],
   "source": [
    "# 小明想要存錢買一輛車,機車每輛30000元,當存款足夠買機車時,就顯示提示訊息告知。\n",
    "\n",
    "import pyinputplus as pyip\n",
    "deposit = 0 # 文件變數\n",
    "num = 0\n",
    "while True: # 比較文件變數\n",
    "    num += 1\n",
    "    input_money = pyip.inputInt(f\"請輸入第{num}月存個金額:\")\n",
    "    print(input_money)\n",
    "    deposit += input_money\n",
    "    if deposit >= 30000:\n",
    "        break\n",
    "   \n",
    "    #print(f\"小明已經存了{deposit}元\")\n",
    "print(f\"\\n最後一次存的金額是:{input_money}元\")\n",
    "print(f\"小明總共存了{num}個月,已經存了{deposit}元\")"
   ]
  },
  {
   "cell_type": "code",
   "execution_count": 16,
   "metadata": {},
   "outputs": [
    {
     "name": "stdout",
     "output_type": "stream",
     "text": [
      "輸入錯誤\n",
      "輸入錯誤\n",
      "應用程式結束\n"
     ]
    }
   ],
   "source": [
    "# 請輸入整數，輸入[q]離開:\n",
    "# 顯示:\n",
    "# 奇數輸出平方\n",
    "# 偶數不做任何動作\n",
    "# 'q'要離開\n",
    "\n",
    "while(True):\n",
    "    value = input(\"請輸入整數,輸入[q]離開:\")\n",
    "    if value == 'q':\n",
    "        break\n",
    "    try:\n",
    "        valueInt = int(value)\n",
    "    except:\n",
    "        print(\"輸入錯誤\")\n",
    "        continue\n",
    "\n",
    "    if valueInt %2 == 1:\n",
    "        print(f\"{valueInt}的平方是{valueInt ** 2}\")\n",
    "    else:\n",
    "        print(\"不做事\")\n",
    "\n",
    "print(\"應用程式結束\")\n"
   ]
  },
  {
   "cell_type": "code",
   "execution_count": 10,
   "metadata": {},
   "outputs": [
    {
     "name": "stdout",
     "output_type": "stream",
     "text": [
      "請輸入整數，求所有因數: 100\n",
      "100的因數是:\n",
      "1 2 4 5 10 20 25 50 100 "
     ]
    }
   ],
   "source": [
    "import pyinputplus as pyip\n",
    "\n",
    "num = pyip.inputInt(\"請輸入整數，求所有因數: \", min=1); print(num)\n",
    "print(f'{num}的因數是:')\n",
    "\n",
    "for i in range(1, num+1):\n",
    "    if num % i == 0:\n",
    "     print(i, end=' ')"
   ]
  },
  {
   "cell_type": "code",
   "execution_count": 2,
   "metadata": {},
   "outputs": [
    {
     "data": {
      "text/plain": [
       "True"
      ]
     },
     "execution_count": 2,
     "metadata": {},
     "output_type": "execute_result"
    }
   ],
   "source": [
    "while True\n"
   ]
  }
 ],
 "metadata": {
  "kernelspec": {
   "display_name": "Python 3",
   "language": "python",
   "name": "python3"
  },
  "language_info": {
   "codemirror_mode": {
    "name": "ipython",
    "version": 3
   },
   "file_extension": ".py",
   "mimetype": "text/x-python",
   "name": "python",
   "nbconvert_exporter": "python",
   "pygments_lexer": "ipython3",
   "version": "3.10.14"
  }
 },
 "nbformat": 4,
 "nbformat_minor": 2
}

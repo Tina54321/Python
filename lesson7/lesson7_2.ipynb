{
 "cells": [
  {
   "cell_type": "code",
   "execution_count": 13,
   "metadata": {},
   "outputs": [
    {
     "name": "stdout",
     "output_type": "stream",
     "text": [
      "請輸入第1月存個金額:4567\n",
      "請輸入第2月存個金額:4568\n",
      "請輸入第3月存個金額:1325\n",
      "請輸入第4月存個金額:6546\n",
      "請輸入第5月存個金額:6548\n",
      "請輸入第6月存個金額:9878\n",
      "\n",
      "最後一次存的金額是:9878元\n",
      "小明總共存了6個月,已經存了33432元\n"
     ]
    }
   ],
   "source": [
    "# 小明想要存錢買一輛車,機車每輛30000元,當存款足夠買機車時,就顯示提示訊息告知。\n",
    "\n",
    "import pyinputplus as pyip\n",
    "deposit = 0 # 文件變數\n",
    "num = 0\n",
    "while True: # 比較文件變數\n",
    "    num += 1\n",
    "    input_money = pyip.inputInt(f\"請輸入第{num}月存個金額:\")\n",
    "    print(input_money)\n",
    "    deposit += input_money\n",
    "    if deposit >= 30000:\n",
    "        break\n",
    "   \n",
    "    #print(f\"小明已經存了{deposit}元\")\n",
    "print(f\"\\n最後一次存的金額是:{input_money}元\")\n",
    "print(f\"小明總共存了{num}個月,已經存了{deposit}元\")"
   ]
  },
  {
   "cell_type": "code",
   "execution_count": 16,
   "metadata": {},
   "outputs": [
    {
     "name": "stdout",
     "output_type": "stream",
     "text": [
      "輸入錯誤\n",
      "輸入錯誤\n",
      "應用程式結束\n"
     ]
    }
   ],
   "source": [
    "# 請輸入整數，輸入[q]離開:\n",
    "# 顯示:\n",
    "# 奇數輸出平方\n",
    "# 偶數不做任何動作\n",
    "# 'q'要離開\n",
    "\n",
    "while(True):\n",
    "    value = input(\"請輸入整數,輸入[q]離開:\")\n",
    "    if value == 'q':\n",
    "        break\n",
    "    try:\n",
    "        valueInt = int(value)\n",
    "    except:\n",
    "        print(\"輸入錯誤\")\n",
    "        continue\n",
    "\n",
    "    if valueInt %2 == 1:\n",
    "        print(f\"{valueInt}的平方是{valueInt ** 2}\")\n",
    "    else:\n",
    "        print(\"不做事\")\n",
    "\n",
    "print(\"應用程式結束\")\n"
   ]
  },
  {
   "cell_type": "code",
   "execution_count": 1,
   "metadata": {},
   "outputs": [
    {
     "name": "stdout",
     "output_type": "stream",
     "text": [
      "請輸入整數，求所有因數: 60\n",
      "60的因數是:\n",
      "1 2 3 4 5 6 10 12 15 20 30 60 "
     ]
    }
   ],
   "source": [
    "import pyinputplus as pyip\n",
    "\n",
    "num = pyip.inputInt(\"請輸入整數，求所有因數: \", min=1); print(num)\n",
    "print(f'{num}的因數是:')\n",
    "\n",
    "for i in range(1, num+1):\n",
    "    if num % i == 0:\n",
    "     print(i, end=' ')"
   ]
  },
  {
   "cell_type": "code",
   "execution_count": 4,
   "metadata": {},
   "outputs": [
    {
     "name": "stdout",
     "output_type": "stream",
     "text": [
      "請輸入整數，求所有因數: 60\n",
      "60的因數為:\n",
      "1 2 3 4 5 6 10 12 15 20 30 60 "
     ]
    }
   ],
   "source": [
    "#請輸入整數,輸入'Q'離開:\n",
    "#輸入:\n",
    "#請輸入整數i,求所有因數:\n",
    "#輸出:\n",
    "#i的因數是:\n",
    "\n",
    "while True:\n",
    "    num = input(\"請輸入整數，求所有因數: \")\n",
    "    if num == 'Q':\n",
    "        print(\"不玩了，881\")\n",
    "        break\n",
    "            # raise Exception(\"不玩了，881\") 粗暴的失敗\n",
    "    try:\n",
    "        num = int(num)\n",
    "        if num > 0:\n",
    "            print(f\"請輸入整數，求所有因數: {num}\")\n",
    "            print(f\"{num}的因數為:\")\n",
    "            for i in range(1, 1+num):\n",
    "                if num % i == 0:\n",
    "                    print(i, end=' ')\n",
    "            break\n",
    "    except Exception as error:\n",
    "        print(f\"格式錯誤，請輸入正整數，{error}\")\n",
    "        continue\n",
    "    else:\n",
    "        print(\"請輸入正整數\")\n",
    "        continue"
   ]
  }
 ],
 "metadata": {
  "kernelspec": {
   "display_name": "Python 3",
   "language": "python",
   "name": "python3"
  },
  "language_info": {
   "codemirror_mode": {
    "name": "ipython",
    "version": 3
   },
   "file_extension": ".py",
   "mimetype": "text/x-python",
   "name": "python",
   "nbconvert_exporter": "python",
   "pygments_lexer": "ipython3",
   "version": "3.10.14"
  }
 },
 "nbformat": 4,
 "nbformat_minor": 2
}

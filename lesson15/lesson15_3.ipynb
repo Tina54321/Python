{
 "cells": [
  {
   "cell_type": "code",
   "execution_count": 3,
   "metadata": {},
   "outputs": [
    {
     "name": "stdout",
     "output_type": "stream",
     "text": [
      "144\n",
      "===================\n",
      "170\n",
      "===================\n",
      "164\n",
      "===================\n",
      "167\n",
      "===================\n",
      "177\n",
      "===================\n"
     ]
    }
   ],
   "source": [
    "student1 = [69, 78, 72, 91, 85]\n",
    "student2 = [75, 92, 92, 76, 92]\n",
    "\n",
    "for i in range(len(student1)):  # list/ dict 是序列,要一個一個取出值, 所以用for...in...\n",
    "    scores = student1[i] + student2[i]\n",
    "    print(scores)\n",
    "    print(\"===================\")"
   ]
  },
  {
   "cell_type": "code",
   "execution_count": 4,
   "metadata": {},
   "outputs": [
    {
     "data": {
      "text/plain": [
       "[69, 78, 72, 91, 85, 75, 92, 92, 76, 92]"
      ]
     },
     "execution_count": 4,
     "metadata": {},
     "output_type": "execute_result"
    }
   ],
   "source": [
    "student1 = [69, 78, 72, 91, 85]\n",
    "student2 = [75, 92, 92, 76, 92]\n",
    "\n",
    "student1 + student2 # 串接"
   ]
  },
  {
   "cell_type": "code",
   "execution_count": 7,
   "metadata": {},
   "outputs": [
    {
     "name": "stdout",
     "output_type": "stream",
     "text": [
      "144\n",
      "============\n",
      "170\n",
      "============\n",
      "164\n",
      "============\n",
      "167\n",
      "============\n",
      "177\n",
      "============\n"
     ]
    }
   ],
   "source": [
    "import numpy as np\n",
    "from numpy import ndarray\n",
    "student1:ndarray = np.array([69, 78, 72, 91, 85])\n",
    "student2:ndarray = np.array([75, 92, 92, 76, 92])\n",
    "\n",
    "#可以做陣列運算,不需使用for...in\n",
    "totols:ndarray = student1 + student2\n",
    "for total in totols:\n",
    "    print(total)\n",
    "    print(\"============\")"
   ]
  },
  {
   "cell_type": "code",
   "execution_count": 13,
   "metadata": {},
   "outputs": [
    {
     "name": "stdout",
     "output_type": "stream",
     "text": [
      "[[1 2 3]\n",
      " [4 5 6]]\n",
      "2\n",
      "(2, 3)\n",
      "6\n",
      "int64\n"
     ]
    }
   ],
   "source": [
    "array:ndarray = np.array([[1,2,3],[4,5,6]])\n",
    "print(array)\n",
    "#property\n",
    "#ndim,shape,size,dtype\n",
    "\n",
    "print(array.ndim)\n",
    "print(array.shape)\n",
    "print(array.size)\n",
    "print(array.dtype)"
   ]
  },
  {
   "cell_type": "code",
   "execution_count": 19,
   "metadata": {},
   "outputs": [
    {
     "data": {
      "text/plain": [
       "array([[4350, 2601, 5040, 4590, 5467],\n",
       "       [6762, 3120, 4891, 5600, 4554],\n",
       "       [4150, 6111, 5734, 3640, 5292],\n",
       "       [5548, 7055, 8178, 6210, 8148],\n",
       "       [6016, 7905, 7200, 4212, 7300],\n",
       "       [3417, 5396, 5530, 5346, 4686],\n",
       "       [5550, 5159, 3172, 4896, 5162],\n",
       "       [7209, 5358, 3630, 6052, 4212],\n",
       "       [4560, 8645, 5734, 3300, 4293],\n",
       "       [5568, 5440, 4731, 5184, 3840],\n",
       "       [3672, 4800, 6384, 4717, 5146],\n",
       "       [5673, 7052, 8554, 4698, 2808],\n",
       "       [7448, 3990, 3960, 5500, 5880],\n",
       "       [6408, 7098, 3570, 8280, 3944],\n",
       "       [5229, 4347, 4992, 8910, 7056],\n",
       "       [6231, 4416, 5428, 6384, 8448],\n",
       "       [5704, 3190, 6237, 4352, 7440],\n",
       "       [6068, 4970, 4800, 4550, 6912],\n",
       "       [7308, 7221, 6880, 6960, 8091],\n",
       "       [9212, 6231, 8010, 4424, 4977],\n",
       "       [3774, 4160, 5369, 6144, 6365],\n",
       "       [8924, 4700, 5130, 4928, 7760],\n",
       "       [6396, 4539, 9603, 6402, 5795],\n",
       "       [4554, 4779, 5670, 8600, 4134],\n",
       "       [5246, 6880, 9506, 4743, 9900],\n",
       "       [5148, 5934, 4650, 8526, 7084],\n",
       "       [4284, 4823, 8370, 6336, 5325],\n",
       "       [3835, 4968, 4080, 8051, 5720],\n",
       "       [5694, 7216, 6750, 3591, 6160],\n",
       "       [5368, 4550, 6600, 7425, 8918],\n",
       "       [6240, 4002, 4644, 9409, 7030],\n",
       "       [5640, 5372, 6365, 5984, 4752],\n",
       "       [3468, 4095, 4662, 6500, 6314],\n",
       "       [4624, 5293, 6336, 4080, 4950],\n",
       "       [6510, 6942, 5852, 5655, 6084],\n",
       "       [4161, 6640, 4750, 3180, 6084],\n",
       "       [6204, 4088, 7728, 4929, 5824],\n",
       "       [9215, 6141, 3306, 6630, 8265],\n",
       "       [3111, 8372, 5328, 6300, 7268],\n",
       "       [6560, 4526, 5106, 5135, 5452],\n",
       "       [4176, 3978, 3306, 4264, 5688],\n",
       "       [6100, 6351, 4743, 5329, 2950],\n",
       "       [6035, 6930, 8740, 4503, 4472],\n",
       "       [4154, 3825, 6882, 6336, 4047],\n",
       "       [6972, 4374, 5096, 7098, 6110],\n",
       "       [5460, 6150, 5456, 7488, 7031],\n",
       "       [5544, 5168, 4284, 6192, 5187],\n",
       "       [5673, 7790, 5846, 3848, 6499],\n",
       "       [4884, 6734, 6348, 7832, 7200],\n",
       "       [5896, 8460, 8556, 4500, 4712]])"
      ]
     },
     "execution_count": 19,
     "metadata": {},
     "output_type": "execute_result"
    }
   ],
   "source": [
    "abc = np.random.randint(50,101,size=(50, 5)) #效能比for...in快"
   ]
  }
 ],
 "metadata": {
  "kernelspec": {
   "display_name": "Python 3",
   "language": "python",
   "name": "python3"
  },
  "language_info": {
   "codemirror_mode": {
    "name": "ipython",
    "version": 3
   },
   "file_extension": ".py",
   "mimetype": "text/x-python",
   "name": "python",
   "nbconvert_exporter": "python",
   "pygments_lexer": "ipython3",
   "version": "3.10.14"
  }
 },
 "nbformat": 4,
 "nbformat_minor": 2
}

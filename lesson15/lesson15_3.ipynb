{
 "cells": [
  {
   "cell_type": "code",
   "execution_count": 3,
   "metadata": {},
   "outputs": [
    {
     "name": "stdout",
     "output_type": "stream",
     "text": [
      "144\n",
      "===================\n",
      "170\n",
      "===================\n",
      "164\n",
      "===================\n",
      "167\n",
      "===================\n",
      "177\n",
      "===================\n"
     ]
    }
   ],
   "source": [
    "student1 = [69, 78, 72, 91, 85]\n",
    "student2 = [75, 92, 92, 76, 92]\n",
    "\n",
    "for i in range(len(student1)):  # list/ dict 是序列,要一個一個取出值, 所以用for...in...\n",
    "    scores = student1[i] + student2[i]\n",
    "    print(scores)\n",
    "    print(\"===================\")"
   ]
  },
  {
   "cell_type": "code",
   "execution_count": 4,
   "metadata": {},
   "outputs": [
    {
     "data": {
      "text/plain": [
       "[69, 78, 72, 91, 85, 75, 92, 92, 76, 92]"
      ]
     },
     "execution_count": 4,
     "metadata": {},
     "output_type": "execute_result"
    }
   ],
   "source": [
    "student1 = [69, 78, 72, 91, 85]\n",
    "student2 = [75, 92, 92, 76, 92]\n",
    "\n",
    "student1 + student2 # 串接"
   ]
  },
  {
   "cell_type": "code",
   "execution_count": 7,
   "metadata": {},
   "outputs": [
    {
     "name": "stdout",
     "output_type": "stream",
     "text": [
      "144\n",
      "============\n",
      "170\n",
      "============\n",
      "164\n",
      "============\n",
      "167\n",
      "============\n",
      "177\n",
      "============\n"
     ]
    }
   ],
   "source": [
    "import numpy as np\n",
    "from numpy import ndarray\n",
    "student1:ndarray = np.array([69, 78, 72, 91, 85])\n",
    "student2:ndarray = np.array([75, 92, 92, 76, 92])\n",
    "\n",
    "#可以做陣列運算,不需使用for...in\n",
    "totols:ndarray = student1 + student2\n",
    "for total in totols:\n",
    "    print(total)\n",
    "    print(\"============\")"
   ]
  },
  {
   "cell_type": "code",
   "execution_count": 13,
   "metadata": {},
   "outputs": [
    {
     "name": "stdout",
     "output_type": "stream",
     "text": [
      "[[1 2 3]\n",
      " [4 5 6]]\n",
      "2\n",
      "(2, 3)\n",
      "6\n",
      "int64\n"
     ]
    }
   ],
   "source": [
    "array:ndarray = np.array([[1,2,3],[4,5,6]])\n",
    "print(array)\n",
    "#property\n",
    "#ndim,shape,size,dtype\n",
    "\n",
    "print(array.ndim)\n",
    "print(array.shape)\n",
    "print(array.size)\n",
    "print(array.dtype)"
   ]
  },
  {
   "cell_type": "code",
   "execution_count": 17,
   "metadata": {},
   "outputs": [
    {
     "data": {
      "text/plain": [
       "array([[ 95,  65,  88,  91,  56],\n",
       "       [ 70,  86,  93,  62,  58],\n",
       "       [ 89,  55,  87,  50,  82],\n",
       "       [ 71,  85,  92,  66,  98],\n",
       "       [ 82,  72,  53,  69,  56],\n",
       "       [ 96, 100,  72,  90,  54],\n",
       "       [ 62,  78,  97,  67,  70],\n",
       "       [ 55,  75,  51,  98,  60],\n",
       "       [ 75,  94,  83,  66,  77],\n",
       "       [ 68,  53,  67,  57,  54],\n",
       "       [ 65,  70,  59,  84,  90],\n",
       "       [ 50,  79,  75,  65,  67],\n",
       "       [ 76,  72, 100,  67,  84],\n",
       "       [ 91,  70,  61,  91,  91],\n",
       "       [ 55,  95,  93,  52,  67],\n",
       "       [ 98,  68,  76,  99,  66],\n",
       "       [ 70,  94,  62,  55,  85],\n",
       "       [ 53,  83,  88,  87,  83],\n",
       "       [ 89,  64,  73,  94,  84],\n",
       "       [ 50,  71,  60,  58,  65],\n",
       "       [ 81,  96,  86,  77,  56],\n",
       "       [ 52,  60,  64,  67,  95],\n",
       "       [ 55,  61,  54,  63,  60],\n",
       "       [ 93,  63,  95,  92,  66],\n",
       "       [ 56,  74,  97,  89,  86],\n",
       "       [ 74,  64, 100,  51,  99],\n",
       "       [ 63,  88,  99,  75,  98],\n",
       "       [ 81,  67,  66,  81,  73],\n",
       "       [ 62,  81,  86,  56,  89],\n",
       "       [ 73,  64,  71,  51,  63],\n",
       "       [ 79,  77,  98,  52,  55],\n",
       "       [ 66,  87,  84,  61,  59],\n",
       "       [ 55,  98,  79,  60,  64],\n",
       "       [ 95,  57,  80,  91,  53],\n",
       "       [ 96,  59,  84,  73, 100],\n",
       "       [ 77,  92,  61, 100,  86],\n",
       "       [ 52,  87,  56,  98,  93],\n",
       "       [ 87,  59,  87,  77,  87],\n",
       "       [ 90,  66,  77,  81,  64],\n",
       "       [ 50,  59,  59,  60,  87],\n",
       "       [ 53,  56,  90,  93,  71],\n",
       "       [ 88,  68,  92,  85,  85],\n",
       "       [ 89,  90, 100,  75,  70],\n",
       "       [ 74,  79,  54,  63,  87],\n",
       "       [ 77,  76,  51,  81,  67],\n",
       "       [ 80,  68,  73,  88,  70],\n",
       "       [ 72,  98,  57, 100,  57],\n",
       "       [ 72,  64,  79,  72,  78],\n",
       "       [ 53,  62, 100,  81,  63],\n",
       "       [ 51,  97,  74,  54, 100]])"
      ]
     },
     "execution_count": 17,
     "metadata": {},
     "output_type": "execute_result"
    }
   ],
   "source": [
    "np.random.randint(50,101,size=(50, 5)) #效能比for...in快"
   ]
  }
 ],
 "metadata": {
  "kernelspec": {
   "display_name": "Python 3",
   "language": "python",
   "name": "python3"
  },
  "language_info": {
   "codemirror_mode": {
    "name": "ipython",
    "version": 3
   },
   "file_extension": ".py",
   "mimetype": "text/x-python",
   "name": "python",
   "nbconvert_exporter": "python",
   "pygments_lexer": "ipython3",
   "version": "3.10.14"
  }
 },
 "nbformat": 4,
 "nbformat_minor": 2
}
